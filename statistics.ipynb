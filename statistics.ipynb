{
 "cells": [
  {
   "attachments": {},
   "cell_type": "markdown",
   "metadata": {},
   "source": [
    "# Getting some insights from the Hangman AI"
   ]
  },
  {
   "cell_type": "code",
   "execution_count": 8,
   "metadata": {},
   "outputs": [
    {
     "name": "stdout",
     "output_type": "stream",
     "text": [
      "Requirement already satisfied: numpy in /home/codespace/.local/lib/python3.10/site-packages (1.23.4)\n",
      "Requirement already satisfied: pandas in /home/codespace/.local/lib/python3.10/site-packages (1.5.1)\n",
      "Requirement already satisfied: scikit-learn in /home/codespace/.local/lib/python3.10/site-packages (1.1.3)\n",
      "Requirement already satisfied: pytz>=2020.1 in /home/codespace/.local/lib/python3.10/site-packages (from pandas) (2022.6)\n",
      "Requirement already satisfied: python-dateutil>=2.8.1 in /home/codespace/.local/lib/python3.10/site-packages (from pandas) (2.8.2)\n",
      "Requirement already satisfied: threadpoolctl>=2.0.0 in /home/codespace/.local/lib/python3.10/site-packages (from scikit-learn) (3.1.0)\n",
      "Requirement already satisfied: scipy>=1.3.2 in /home/codespace/.local/lib/python3.10/site-packages (from scikit-learn) (1.9.3)\n",
      "Requirement already satisfied: joblib>=1.0.0 in /home/codespace/.local/lib/python3.10/site-packages (from scikit-learn) (1.2.0)\n",
      "Requirement already satisfied: six>=1.5 in /home/codespace/.local/lib/python3.10/site-packages (from python-dateutil>=2.8.1->pandas) (1.16.0)\n",
      "Note: you may need to restart the kernel to use updated packages.\n"
     ]
    }
   ],
   "source": [
    "%pip install numpy pandas scikit-learn"
   ]
  },
  {
   "cell_type": "code",
   "execution_count": 14,
   "metadata": {},
   "outputs": [],
   "source": [
    "from typing import List\n",
    "\n",
    "import numpy as np\n",
    "import pandas as pd\n",
    "from sklearn.metrics import accuracy_score"
   ]
  },
  {
   "cell_type": "code",
   "execution_count": 6,
   "metadata": {},
   "outputs": [
    {
     "data": {
      "text/html": [
       "<div>\n",
       "<style scoped>\n",
       "    .dataframe tbody tr th:only-of-type {\n",
       "        vertical-align: middle;\n",
       "    }\n",
       "\n",
       "    .dataframe tbody tr th {\n",
       "        vertical-align: top;\n",
       "    }\n",
       "\n",
       "    .dataframe thead th {\n",
       "        text-align: right;\n",
       "    }\n",
       "</style>\n",
       "<table border=\"1\" class=\"dataframe\">\n",
       "  <thead>\n",
       "    <tr style=\"text-align: right;\">\n",
       "      <th></th>\n",
       "      <th>Word</th>\n",
       "      <th>Guess</th>\n",
       "      <th>Actual</th>\n",
       "      <th>Predicted</th>\n",
       "      <th>Game-Status</th>\n",
       "      <th>word-length</th>\n",
       "    </tr>\n",
       "  </thead>\n",
       "  <tbody>\n",
       "    <tr>\n",
       "      <th>0</th>\n",
       "      <td>ALBUMS</td>\n",
       "      <td>AL***S</td>\n",
       "      <td>1</td>\n",
       "      <td>0</td>\n",
       "      <td>incomplete</td>\n",
       "      <td>6</td>\n",
       "    </tr>\n",
       "    <tr>\n",
       "      <th>1</th>\n",
       "      <td>FOOTWEAR</td>\n",
       "      <td>*OOT*EAR</td>\n",
       "      <td>1</td>\n",
       "      <td>0</td>\n",
       "      <td>incomplete</td>\n",
       "      <td>8</td>\n",
       "    </tr>\n",
       "    <tr>\n",
       "      <th>2</th>\n",
       "      <td>LENDING</td>\n",
       "      <td>LENDING</td>\n",
       "      <td>1</td>\n",
       "      <td>1</td>\n",
       "      <td>correct</td>\n",
       "      <td>7</td>\n",
       "    </tr>\n",
       "    <tr>\n",
       "      <th>3</th>\n",
       "      <td>REPRESENTS</td>\n",
       "      <td>RE*RESENTS</td>\n",
       "      <td>1</td>\n",
       "      <td>0</td>\n",
       "      <td>incomplete</td>\n",
       "      <td>10</td>\n",
       "    </tr>\n",
       "    <tr>\n",
       "      <th>4</th>\n",
       "      <td>CONSIST</td>\n",
       "      <td>CONSIST</td>\n",
       "      <td>1</td>\n",
       "      <td>1</td>\n",
       "      <td>correct</td>\n",
       "      <td>7</td>\n",
       "    </tr>\n",
       "  </tbody>\n",
       "</table>\n",
       "</div>"
      ],
      "text/plain": [
       "         Word       Guess  Actual  Predicted Game-Status  word-length\n",
       "0      ALBUMS      AL***S       1          0  incomplete            6\n",
       "1    FOOTWEAR    *OOT*EAR       1          0  incomplete            8\n",
       "2     LENDING     LENDING       1          1     correct            7\n",
       "3  REPRESENTS  RE*RESENTS       1          0  incomplete           10\n",
       "4     CONSIST     CONSIST       1          1     correct            7"
      ]
     },
     "execution_count": 6,
     "metadata": {},
     "output_type": "execute_result"
    }
   ],
   "source": [
    "def load_data(path: str) -> pd.DataFrame:\n",
    "    return pd.read_csv(path)\n",
    "\n",
    "csv_path: str = \"data/hangman-statistics.csv\"\n",
    "data: pd.DataFrame = load_data(path=csv_path)\n",
    "\n",
    "data.head()"
   ]
  },
  {
   "cell_type": "code",
   "execution_count": 12,
   "metadata": {},
   "outputs": [
    {
     "name": "stdout",
     "output_type": "stream",
     "text": [
      "The AI guesses the right word  42.199 and losses:  57.801\n"
     ]
    }
   ],
   "source": [
    "## Win / Loss ratio\n",
    "wins: float = accuracy_score(data[\"Actual\"], data[\"Predicted\"]) * 100\n",
    "losses: float = 100 - wins\n",
    "\n",
    "print(f\"The AI guesses the right word {wins: .3f}% and losses: {losses: .3f}%\")"
   ]
  },
  {
   "cell_type": "code",
   "execution_count": 24,
   "metadata": {},
   "outputs": [
    {
     "name": "stdout",
     "output_type": "stream",
     "text": [
      "Word Length: 5\n",
      "The AI guesses the right word  31.852 and losses:  68.148\n",
      "=================================================================================\n",
      "Word Length: 6\n",
      "The AI guesses the right word  34.110 and losses:  65.890\n",
      "=================================================================================\n",
      "Word Length: 7\n",
      "The AI guesses the right word  36.745 and losses:  63.255\n",
      "=================================================================================\n",
      "Word Length: 8\n",
      "The AI guesses the right word  45.666 and losses:  54.334\n",
      "=================================================================================\n",
      "Word Length: 9\n",
      "The AI guesses the right word  49.271 and losses:  50.729\n",
      "=================================================================================\n",
      "Word Length: 10\n",
      "The AI guesses the right word  56.790 and losses:  43.210\n",
      "=================================================================================\n",
      "Word Length: 11\n",
      "The AI guesses the right word  56.000 and losses:  44.000\n",
      "=================================================================================\n",
      "Word Length: 12\n",
      "The AI guesses the right word  60.714 and losses:  39.286\n",
      "=================================================================================\n",
      "Word Length: 13\n",
      "The AI guesses the right word  85.294 and losses:  14.706\n",
      "=================================================================================\n",
      "Word Length: 14\n",
      "The AI guesses the right word  93.333 and losses:  6.667\n",
      "=================================================================================\n",
      "Word Length: 15\n",
      "The AI guesses the right word  100.000 and losses:  0.000\n",
      "=================================================================================\n",
      "Word Length: 16\n",
      "The AI guesses the right word  100.000 and losses:  0.000\n",
      "=================================================================================\n"
     ]
    }
   ],
   "source": [
    "word_lengths = np.sort(data[\"word-length\"].unique(), axis=0)\n",
    "\n",
    "for _, word_length in enumerate(word_lengths):\n",
    "    tmp_data = data[(data[\"word-length\"] == word_length)]\n",
    "    print(f\"Word Length: {word_length}\")\n",
    "\n",
    "    wins: float = accuracy_score(tmp_data[\"Actual\"], tmp_data[\"Predicted\"]) * 100\n",
    "    losses: float = 100 - wins\n",
    "\n",
    "    print(f\"The AI guesses the right word {wins: .3f}% and losses: {losses: .3f}%\")\n",
    "    print(\"=================================================================================\")"
   ]
  }
 ],
 "metadata": {
  "kernelspec": {
   "display_name": "Python 3",
   "language": "python",
   "name": "python3"
  },
  "language_info": {
   "codemirror_mode": {
    "name": "ipython",
    "version": 3
   },
   "file_extension": ".py",
   "mimetype": "text/x-python",
   "name": "python",
   "nbconvert_exporter": "python",
   "pygments_lexer": "ipython3",
   "version": "3.10.4"
  },
  "orig_nbformat": 4,
  "vscode": {
   "interpreter": {
    "hash": "3ad933181bd8a04b432d3370b9dc3b0662ad032c4dfaa4e4f1596c548f763858"
   }
  }
 },
 "nbformat": 4,
 "nbformat_minor": 2
}
